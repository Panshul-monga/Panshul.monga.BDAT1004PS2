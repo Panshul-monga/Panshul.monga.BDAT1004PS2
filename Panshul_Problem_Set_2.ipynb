{
 "cells": [
  {
   "cell_type": "markdown",
   "id": "ff88db76",
   "metadata": {},
   "source": [
    "## Problem Set 2"
   ]
  },
  {
   "cell_type": "markdown",
   "id": "2512e50c",
   "metadata": {},
   "source": [
    "## Data Programming"
   ]
  },
  {
   "cell_type": "markdown",
   "id": "5ee2e4cd",
   "metadata": {},
   "source": [
    "#### Question 1"
   ]
  },
  {
   "cell_type": "code",
   "execution_count": 58,
   "id": "4f355276",
   "metadata": {},
   "outputs": [],
   "source": [
    "a = 0\n",
    "def b():\n",
    "    global a\n",
    "    a = c(a)\n",
    "def c(a):\n",
    "    return a + 2"
   ]
  },
  {
   "cell_type": "markdown",
   "id": "013857d7",
   "metadata": {},
   "source": [
    "#### Question 2"
   ]
  },
  {
   "cell_type": "code",
   "execution_count": 1,
   "id": "d10f937a",
   "metadata": {},
   "outputs": [
    {
     "name": "stdout",
     "output_type": "stream",
     "text": [
      "File midterm.py not found.\n"
     ]
    }
   ],
   "source": [
    "def file_length(file_name):\n",
    "    file = open(file_name)\n",
    "    contents = file.read()\n",
    "    file.close()\n",
    "    print(len(contents))\n",
    "    \n",
    "try:\n",
    "    fileLength('midterm.py')\n",
    "except:\n",
    "    print(\"File midterm.py not found.\")"
   ]
  },
  {
   "cell_type": "markdown",
   "id": "eb59b3c2",
   "metadata": {},
   "source": [
    "#### Question 3"
   ]
  },
  {
   "cell_type": "code",
   "execution_count": 2,
   "id": "39e69cd2",
   "metadata": {},
   "outputs": [],
   "source": [
    "class Marsupial:\n",
    "    def __init__(self):\n",
    "        self.pouch_contents = []\n",
    "    def put_in_pouch(self,obj):\n",
    "        self.pouch_contents.append(obj)"
   ]
  },
  {
   "cell_type": "markdown",
   "id": "8a520be7",
   "metadata": {},
   "source": [
    "m = Marsupial()\n",
    "m.put_in_pouch('doll')\n",
    "m.put_in_pouch('firetruck')\n",
    "m.put_in_pouch('kitten')\n",
    "m.pouch_contents"
   ]
  },
  {
   "cell_type": "code",
   "execution_count": 3,
   "id": "1307db7b",
   "metadata": {},
   "outputs": [
    {
     "name": "stdout",
     "output_type": "stream",
     "text": [
      "I am a Kangaroo located at coordinates (0,0).\n"
     ]
    }
   ],
   "source": [
    "class Kangaroo(Marsupial):\n",
    "    def __init__(self, x, y):\n",
    "        self.x = x\n",
    "        self.y = y\n",
    "        Marsupial.__init__(self)\n",
    "    def jump(self, dx, dy):\n",
    "        self.dx = dx\n",
    "        self.dy = dy\n",
    "        self.x = self.x + self.dx\n",
    "        self.y = self.y + self.dy\n",
    "    def __str__(self):\n",
    "        x_to_str = str(self.x)\n",
    "        y_to_str = str(self.y)\n",
    "        string = str(\"I am a Kangaroo located at coordinates (\" + x_to_str + \",\" + y_to_str + \").\" )\n",
    "        return string\n",
    "k = Kangaroo(0,0)\n",
    "print(k)"
   ]
  },
  {
   "cell_type": "code",
   "execution_count": 4,
   "id": "bafd8260",
   "metadata": {},
   "outputs": [
    {
     "data": {
      "text/plain": [
       "['doll', 'firetruck', 'kitten']"
      ]
     },
     "execution_count": 4,
     "metadata": {},
     "output_type": "execute_result"
    }
   ],
   "source": [
    "k.put_in_pouch('doll')\n",
    "k.put_in_pouch('firetruck')\n",
    "k.put_in_pouch('kitten')\n",
    "k.pouch_contents"
   ]
  },
  {
   "cell_type": "code",
   "execution_count": 5,
   "id": "0bfb138e",
   "metadata": {},
   "outputs": [
    {
     "name": "stdout",
     "output_type": "stream",
     "text": [
      "I am a Kangaroo located at coordinates (3,0).\n"
     ]
    }
   ],
   "source": [
    "k.jump(1,0)\n",
    "k.jump(1,0)\n",
    "k.jump(1,0)\n",
    "print(k)"
   ]
  },
  {
   "cell_type": "markdown",
   "id": "a87fcca3",
   "metadata": {},
   "source": [
    "#### Question 4"
   ]
  },
  {
   "cell_type": "code",
   "execution_count": 6,
   "id": "9d1e1506",
   "metadata": {},
   "outputs": [],
   "source": [
    "def collatz(x):\n",
    "    if x != 1:\n",
    "        print(int(x))\n",
    "    if x % 2 ==0:\n",
    "        if x==1:\n",
    "            return 1\n",
    "        else:\n",
    "            return collatz(x/2)\n",
    "    if x % 2 != 0:\n",
    "        if x ==1:\n",
    "            return 1\n",
    "        else:\n",
    "            return collatz(3 * x + 1)"
   ]
  },
  {
   "cell_type": "code",
   "execution_count": 7,
   "id": "6ca6c889",
   "metadata": {},
   "outputs": [
    {
     "name": "stdout",
     "output_type": "stream",
     "text": [
      "1\n"
     ]
    }
   ],
   "source": [
    "print(collatz(1))"
   ]
  },
  {
   "cell_type": "code",
   "execution_count": 8,
   "id": "cb7ee01e",
   "metadata": {},
   "outputs": [
    {
     "name": "stdout",
     "output_type": "stream",
     "text": [
      "10\n",
      "5\n",
      "16\n",
      "8\n",
      "4\n",
      "2\n",
      "1\n"
     ]
    }
   ],
   "source": [
    "print(collatz(10))"
   ]
  },
  {
   "cell_type": "markdown",
   "id": "e59ce77d",
   "metadata": {},
   "source": [
    "#### Question 5"
   ]
  },
  {
   "cell_type": "code",
   "execution_count": 9,
   "id": "5607547e",
   "metadata": {},
   "outputs": [],
   "source": [
    "def binary(number):\n",
    "    if number<0:\n",
    "        try:\n",
    "            binary(number)\n",
    "        except:\n",
    "            print(\"Number must be non negative.\")\n",
    "    elif number == 0:\n",
    "        return 0        \n",
    "    else:\n",
    "        return (number % 2 + 10 *\n",
    "                binary(int(number // 2)))"
   ]
  },
  {
   "cell_type": "code",
   "execution_count": 10,
   "id": "021267fd",
   "metadata": {},
   "outputs": [
    {
     "data": {
      "text/plain": [
       "0"
      ]
     },
     "execution_count": 10,
     "metadata": {},
     "output_type": "execute_result"
    }
   ],
   "source": [
    "binary(0)"
   ]
  },
  {
   "cell_type": "code",
   "execution_count": 11,
   "id": "85068ed3",
   "metadata": {},
   "outputs": [
    {
     "data": {
      "text/plain": [
       "1"
      ]
     },
     "execution_count": 11,
     "metadata": {},
     "output_type": "execute_result"
    }
   ],
   "source": [
    "binary(1)"
   ]
  },
  {
   "cell_type": "code",
   "execution_count": 12,
   "id": "165ce9bf",
   "metadata": {},
   "outputs": [
    {
     "data": {
      "text/plain": [
       "11"
      ]
     },
     "execution_count": 12,
     "metadata": {},
     "output_type": "execute_result"
    }
   ],
   "source": [
    "binary(3)"
   ]
  },
  {
   "cell_type": "code",
   "execution_count": 13,
   "id": "7546ae02",
   "metadata": {},
   "outputs": [
    {
     "data": {
      "text/plain": [
       "1001"
      ]
     },
     "execution_count": 13,
     "metadata": {},
     "output_type": "execute_result"
    }
   ],
   "source": [
    "binary(9)"
   ]
  },
  {
   "cell_type": "markdown",
   "id": "edddb85e",
   "metadata": {},
   "source": [
    "#### Question 6"
   ]
  },
  {
   "cell_type": "code",
   "execution_count": 37,
   "id": "06b50be8",
   "metadata": {},
   "outputs": [],
   "source": [
    "from urllib.request import urlopen\n",
    "from html.parser import HTMLParser\n",
    "class HeadingParser(HTMLParser):\n",
    "        \n",
    "    def __init__(self):\n",
    "        HTMLParser.__init__(self)\n",
    "        self.intent = 0\n",
    "        self.h_I=False\n",
    "        self.c_i=[]\n",
    "    def handle_starttag(self, tag, attrs):\n",
    "        if tag==\"h1\" or tag==\"h2\":\n",
    "            print('{}{} start'.format(self.intent*'',tag))\n",
    "            self.intent+=4\n",
    "    def handle_data(self,data):\n",
    "        if self.h_I==True:\n",
    "            self.c_l.append(data)\n",
    "    def handle_endtag(self, tag):\n",
    "        if tag==\"h1\" or tag==\"h2\":\n",
    "            self.h_I=False\n",
    "            print('{}{} end'.format(self.intent*'',tag))\n",
    "    def getheadings(self):\n",
    "        return self.c_l"
   ]
  },
  {
   "cell_type": "code",
   "execution_count": 43,
   "id": "d0889f8d",
   "metadata": {},
   "outputs": [
    {
     "name": "stdout",
     "output_type": "stream",
     "text": [
      "h1 start\n",
      "h1 end\n",
      "h2 start\n",
      "h2 end\n"
     ]
    }
   ],
   "source": [
    "infile = open('w3c.html')\n",
    "content = infile.read()\n",
    "infile.close()\n",
    "hp = HeadingParser()\n",
    "hp.feed(content)"
   ]
  },
  {
   "cell_type": "code",
   "execution_count": 57,
   "id": "91783e58",
   "metadata": {},
   "outputs": [
    {
     "name": "stdout",
     "output_type": "stream",
     "text": [
      "\n",
      "\n",
      "\n",
      "\n",
      "\n",
      "\n",
      "  \n",
      "\n",
      "  \n",
      "\n",
      "  \n",
      "Change_me\n",
      "\n",
      "  \n",
      "\n",
      "  \n",
      "\n",
      "  \n",
      "\n",
      "\n",
      "\n",
      "\n",
      "\n",
      "\n",
      "  \n",
      "\t\n",
      "h1\n",
      "W3C Mission\n",
      "h1\n",
      "\n",
      "\t\n",
      "h2\n",
      "Principles\n",
      "h2\n",
      "\n",
      " \n",
      "\n",
      "\n",
      "\n",
      "\n",
      "\n"
     ]
    }
   ],
   "source": [
    "from html.parser import HTMLParser\n",
    "\n",
    "class HeadingParser(HTMLParser):\n",
    "    \n",
    "    headers = ['h1', 'h2', 'h3', 'h4', 'h5', 'h6']\n",
    "\n",
    "    \n",
    "    def handle_starttag(self, tag, attrs):\n",
    "        if tag in self.headers:\n",
    "            print(tag)\n",
    "\n",
    "    def handle_endtag(self, tag):\n",
    "        if tag in self.headers:\n",
    "            print(tag)\n",
    "\n",
    "    def handle_data(self, data):\n",
    "        print(data)\n",
    "\n",
    "# TEST HERE\n",
    "parser = HeadingParser()\n",
    "infile = open('w3c.html')\n",
    "content = infile.read()\n",
    "infile.close()\n",
    "hp = HeadingParser()\n",
    "hp.feed(content)"
   ]
  },
  {
   "cell_type": "markdown",
   "id": "5efe85c3",
   "metadata": {},
   "source": [
    "#### Question 7"
   ]
  },
  {
   "cell_type": "code",
   "execution_count": 55,
   "id": "649b1262",
   "metadata": {},
   "outputs": [
    {
     "name": "stdout",
     "output_type": "stream",
     "text": [
      "<class 'http.client.HTTPResponse'>\n",
      "http://reed.cs.depaul.edu/lperkovic/test1.html\n",
      "('Set-Cookie', 'JSESSIONID=65B1A45CB5DBF0D8E6476177937E0CDC; Path=/; HttpOnly')\n",
      "('Accept-Ranges', 'bytes')\n",
      "('ETag', 'W/\"339-1583351865000\"')\n",
      "('Last-Modified', 'Wed, 04 Mar 2020 19:57:45 GMT')\n",
      "('Content-Type', 'text/html')\n",
      "('Content-Length', '339')\n",
      "('Date', 'Tue, 22 Feb 2022 22:45:31 GMT')\n",
      "('Connection', 'close')\n",
      "<class 'bytes'>\n",
      "<class 'str'>\n"
     ]
    },
    {
     "data": {
      "text/plain": [
       "'<!DOCTYPE HTML PUBLIC \"-//W3C//DTD HTML 4.01 Transitional//EN\">\\n<html>\\n<head>\\n  <title>Test page</title>\\n</head>\\n<body>\\n<h2> Hello World </h2>\\n<a href=\"http://reed.cs.depaul.edu/lperkovic/test2.html\"> Link\\nto test2.html </a>\\n<p> <a href=\"test3.html\"> Link to test3.html</a><br>\\n</p>\\n<p>Paris Paris Paris<br>\\nTokyo<br>\\n</p>\\n</body>\\n</html>\\n'"
      ]
     },
     "execution_count": 55,
     "metadata": {},
     "output_type": "execute_result"
    }
   ],
   "source": [
    "from urllib.request import urlopen\n",
    "response = urlopen('http://reed.cs.depaul.edu/lperkovic/test1.html')\n",
    "print(type(response))\n",
    "\n",
    "print(response.geturl())\n",
    "\n",
    "for header in response.getheaders():\n",
    "    print(header)\n",
    "    \n",
    "html = response.read()\n",
    "print(type(html))\n",
    "html = html.decode()\n",
    "print(type(html))\n",
    "\n",
    "html"
   ]
  },
  {
   "cell_type": "markdown",
   "id": "f69ffbbf",
   "metadata": {},
   "source": [
    "#### Question 8"
   ]
  },
  {
   "cell_type": "code",
   "execution_count": 15,
   "id": "bb7f0688",
   "metadata": {},
   "outputs": [
    {
     "name": "stdout",
     "output_type": "stream",
     "text": [
      "Requirement already satisfied: ipython-sql in c:\\users\\palak\\anaconda3\\lib\\site-packages (0.4.0)\n",
      "Requirement already satisfied: ipython-genutils>=0.1.0 in c:\\users\\palak\\anaconda3\\lib\\site-packages (from ipython-sql) (0.2.0)\n",
      "Requirement already satisfied: ipython>=1.0 in c:\\users\\palak\\anaconda3\\lib\\site-packages (from ipython-sql) (7.22.0)\n",
      "Requirement already satisfied: sqlalchemy>=0.6.7 in c:\\users\\palak\\anaconda3\\lib\\site-packages (from ipython-sql) (1.4.7)\n",
      "Requirement already satisfied: prettytable<1 in c:\\users\\palak\\anaconda3\\lib\\site-packages (from ipython-sql) (0.7.2)\n",
      "Requirement already satisfied: sqlparse in c:\\users\\palak\\anaconda3\\lib\\site-packages (from ipython-sql) (0.4.2)\n",
      "Requirement already satisfied: six in c:\\users\\palak\\anaconda3\\lib\\site-packages (from ipython-sql) (1.15.0)\n",
      "Requirement already satisfied: prompt-toolkit!=3.0.0,!=3.0.1,<3.1.0,>=2.0.0 in c:\\users\\palak\\anaconda3\\lib\\site-packages (from ipython>=1.0->ipython-sql) (3.0.17)\n",
      "Requirement already satisfied: setuptools>=18.5 in c:\\users\\palak\\anaconda3\\lib\\site-packages (from ipython>=1.0->ipython-sql) (52.0.0.post20210125)\n",
      "Requirement already satisfied: backcall in c:\\users\\palak\\anaconda3\\lib\\site-packages (from ipython>=1.0->ipython-sql) (0.2.0)\n",
      "Requirement already satisfied: traitlets>=4.2 in c:\\users\\palak\\anaconda3\\lib\\site-packages (from ipython>=1.0->ipython-sql) (5.0.5)\n",
      "Requirement already satisfied: pygments in c:\\users\\palak\\anaconda3\\lib\\site-packages (from ipython>=1.0->ipython-sql) (2.8.1)\n",
      "Requirement already satisfied: decorator in c:\\users\\palak\\anaconda3\\lib\\site-packages (from ipython>=1.0->ipython-sql) (5.0.6)\n",
      "Requirement already satisfied: pickleshare in c:\\users\\palak\\anaconda3\\lib\\site-packages (from ipython>=1.0->ipython-sql) (0.7.5)\n",
      "Requirement already satisfied: colorama in c:\\users\\palak\\anaconda3\\lib\\site-packages (from ipython>=1.0->ipython-sql) (0.4.4)\n",
      "Requirement already satisfied: jedi>=0.16 in c:\\users\\palak\\anaconda3\\lib\\site-packages (from ipython>=1.0->ipython-sql) (0.17.2)\n",
      "Requirement already satisfied: parso<0.8.0,>=0.7.0 in c:\\users\\palak\\anaconda3\\lib\\site-packages (from jedi>=0.16->ipython>=1.0->ipython-sql) (0.7.0)\n",
      "Requirement already satisfied: wcwidth in c:\\users\\palak\\anaconda3\\lib\\site-packages (from prompt-toolkit!=3.0.0,!=3.0.1,<3.1.0,>=2.0.0->ipython>=1.0->ipython-sql) (0.2.5)\n",
      "Requirement already satisfied: greenlet!=0.4.17 in c:\\users\\palak\\anaconda3\\lib\\site-packages (from sqlalchemy>=0.6.7->ipython-sql) (1.0.0)\n"
     ]
    }
   ],
   "source": [
    "!pip install ipython-sql"
   ]
  },
  {
   "cell_type": "code",
   "execution_count": 16,
   "id": "619f2cfa",
   "metadata": {},
   "outputs": [],
   "source": [
    "%%capture\n",
    "%load_ext sql\n",
    "%sql sqlite3:///bdat.db"
   ]
  },
  {
   "cell_type": "code",
   "execution_count": 19,
   "id": "dfea9df9",
   "metadata": {},
   "outputs": [
    {
     "data": {
      "text/plain": [
       "<sqlite3.Cursor at 0x262ec711c70>"
      ]
     },
     "execution_count": 19,
     "metadata": {},
     "output_type": "execute_result"
    }
   ],
   "source": [
    "import sqlite3\n",
    "connection = sqlite3.connect(\"gfg.db\")\n",
    "  \n",
    "# cursor\n",
    "crsr = connection.cursor()\n",
    "  \n",
    "# SQL command to create a table in the database\n",
    "sql_command =\"\"\"\n",
    "CREATE TABLE weather2\n",
    "(\n",
    "City text,\n",
    "Country text,\n",
    "Season text,\n",
    "Temperature real,\n",
    "Rainfall real\n",
    ")\"\"\"\n",
    "\n",
    "crsr.execute(sql_command)"
   ]
  },
  {
   "cell_type": "code",
   "execution_count": 20,
   "id": "8724f6f0",
   "metadata": {},
   "outputs": [],
   "source": [
    "sql_command = \"\"\"INSERT INTO weather2 VALUES ('Mumbai', 'India', 'Winter', 24.8, 5.9 );\"\"\"\n",
    "crsr.execute(sql_command)\n",
    "sql_command = \"\"\"INSERT INTO weather2 VALUES ('Mumbai', 'India', 'Spring', 28.4, 16.2 );\"\"\"\n",
    "crsr.execute(sql_command)\n",
    "sql_command = \"\"\"INSERT INTO weather2 VALUES ('Mumbai', 'India', 'Summer', 27.9, 1549.4 );\"\"\"\n",
    "crsr.execute(sql_command)\n",
    "sql_command = \"\"\"INSERT INTO weather2 VALUES ('Mumbai', 'India', 'Fall', 27.6, 346.0 );\"\"\"\n",
    "crsr.execute(sql_command)\n",
    "sql_command = \"\"\"INSERT INTO weather2 VALUES ('London', 'United Kingdom', 'Winter', 4.2, 207.7 );\"\"\"\n",
    "crsr.execute(sql_command)\n",
    "sql_command = \"\"\"INSERT INTO weather2 VALUES ('London', 'United Kingdom', 'Spring', 8.3, 169.6 );\"\"\"\n",
    "crsr.execute(sql_command)\n",
    "sql_command = \"\"\"INSERT INTO weather2 VALUES ('London', 'United Kingdom', 'Summer', 15.7, 157.0 );\"\"\"\n",
    "crsr.execute(sql_command)\n",
    "sql_command = \"\"\"INSERT INTO weather2 VALUES ('London', 'United Kingdom', 'Fall', 10.4, 218.5 );\"\"\"\n",
    "crsr.execute(sql_command)\n",
    "sql_command = \"\"\"INSERT INTO weather2 VALUES ('Cairo', 'Egypt', 'Winter', 13.6, 16.5 );\"\"\"\n",
    "crsr.execute(sql_command)\n",
    "sql_command = \"\"\"INSERT INTO weather2 VALUES ('Cairo', 'Egypt', 'Spring', 20.7, 6.5 );\"\"\"\n",
    "crsr.execute(sql_command)\n",
    "sql_command = \"\"\"INSERT INTO weather2 VALUES ('Cairo', 'Egypt', 'Summer', 27.7, 0.1 );\"\"\"\n",
    "crsr.execute(sql_command)\n",
    "sql_command = \"\"\"INSERT INTO weather2 VALUES ('Cairo', 'Egypt', 'Fall', 22.2, 4.5 );\"\"\"\n",
    "crsr.execute(sql_command)\n",
    "connection.commit()"
   ]
  },
  {
   "cell_type": "code",
   "execution_count": 21,
   "id": "151fa6b4",
   "metadata": {},
   "outputs": [
    {
     "name": "stdout",
     "output_type": "stream",
     "text": [
      "('Mumbai', 'India', 'Winter', 24.8, 5.9)\n",
      "('Mumbai', 'India', 'Spring', 28.4, 16.2)\n",
      "('Mumbai', 'India', 'Summer', 27.9, 1549.4)\n",
      "('Mumbai', 'India', 'Fall', 27.6, 346.0)\n",
      "('London', 'United Kingdom', 'Winter', 4.2, 207.7)\n",
      "('London', 'United Kingdom', 'Spring', 8.3, 169.6)\n",
      "('London', 'United Kingdom', 'Summer', 15.7, 157.0)\n",
      "('London', 'United Kingdom', 'Fall', 10.4, 218.5)\n",
      "('Cairo', 'Egypt', 'Winter', 13.6, 16.5)\n",
      "('Cairo', 'Egypt', 'Spring', 20.7, 6.5)\n",
      "('Cairo', 'Egypt', 'Summer', 27.7, 0.1)\n",
      "('Cairo', 'Egypt', 'Fall', 22.2, 4.5)\n"
     ]
    }
   ],
   "source": [
    "crsr.execute(\"SELECT * FROM weather2\")\n",
    "\n",
    "ans = crsr.fetchall()\n",
    "\n",
    "for i in ans:\n",
    "    print(i)"
   ]
  },
  {
   "cell_type": "code",
   "execution_count": 22,
   "id": "867cc024",
   "metadata": {},
   "outputs": [
    {
     "data": {
      "text/plain": [
       "[(24.8,),\n",
       " (28.4,),\n",
       " (27.9,),\n",
       " (27.6,),\n",
       " (4.2,),\n",
       " (8.3,),\n",
       " (15.7,),\n",
       " (10.4,),\n",
       " (13.6,),\n",
       " (20.7,),\n",
       " (27.7,),\n",
       " (22.2,)]"
      ]
     },
     "execution_count": 22,
     "metadata": {},
     "output_type": "execute_result"
    }
   ],
   "source": [
    "crsr.execute(\"SELECT Temperature FROM weather2\")\n",
    "crsr.fetchall()"
   ]
  },
  {
   "cell_type": "code",
   "execution_count": 23,
   "id": "1d95b5ab",
   "metadata": {},
   "outputs": [
    {
     "data": {
      "text/plain": [
       "[('Mumbai',), ('London',), ('Cairo',)]"
      ]
     },
     "execution_count": 23,
     "metadata": {},
     "output_type": "execute_result"
    }
   ],
   "source": [
    "crsr.execute(\"SELECT DISTINCT City FROM weather2 \")\n",
    "crsr.fetchall()"
   ]
  },
  {
   "cell_type": "code",
   "execution_count": 24,
   "id": "70463d80",
   "metadata": {},
   "outputs": [
    {
     "data": {
      "text/plain": [
       "[('Mumbai', 'India', 'Winter', 24.8, 5.9),\n",
       " ('Mumbai', 'India', 'Spring', 28.4, 16.2),\n",
       " ('Mumbai', 'India', 'Summer', 27.9, 1549.4),\n",
       " ('Mumbai', 'India', 'Fall', 27.6, 346.0)]"
      ]
     },
     "execution_count": 24,
     "metadata": {},
     "output_type": "execute_result"
    }
   ],
   "source": [
    "crsr.execute(\"SELECT * FROM weather2 WHERE weather2.Country = 'India' \")\n",
    "crsr.fetchall()"
   ]
  },
  {
   "cell_type": "code",
   "execution_count": 25,
   "id": "0d144838",
   "metadata": {},
   "outputs": [
    {
     "data": {
      "text/plain": [
       "[('Mumbai', 'India', 'Fall', 27.6, 346.0),\n",
       " ('London', 'United Kingdom', 'Fall', 10.4, 218.5),\n",
       " ('Cairo', 'Egypt', 'Fall', 22.2, 4.5)]"
      ]
     },
     "execution_count": 25,
     "metadata": {},
     "output_type": "execute_result"
    }
   ],
   "source": [
    "crsr.execute(\"SELECT * FROM weather2 WHERE weather2.Season = 'Fall' \")\n",
    "crsr.fetchall()"
   ]
  },
  {
   "cell_type": "code",
   "execution_count": 27,
   "id": "8a242082",
   "metadata": {},
   "outputs": [
    {
     "data": {
      "text/plain": [
       "[('Mumbai', 'India', 'Fall'),\n",
       " ('London', 'United Kingdom', 'Winter'),\n",
       " ('London', 'United Kingdom', 'Fall')]"
      ]
     },
     "execution_count": 27,
     "metadata": {},
     "output_type": "execute_result"
    }
   ],
   "source": [
    "crsr.execute(\"SELECT City, Country, Season FROM weather2 WHERE weather2.Rainfall >200 AND weather2.Rainfall <400 \")\n",
    "crsr.fetchall()"
   ]
  },
  {
   "cell_type": "code",
   "execution_count": 28,
   "id": "353c690d",
   "metadata": {},
   "outputs": [
    {
     "data": {
      "text/plain": [
       "[('Mumbai', 'India'), ('Cairo', 'Egypt')]"
      ]
     },
     "execution_count": 28,
     "metadata": {},
     "output_type": "execute_result"
    }
   ],
   "source": [
    "crsr.execute(\"SELECT City, Country FROM weather2 WHERE weather2.Season = 'Fall' AND weather2.Temperature >20 \")\n",
    "crsr.fetchall()"
   ]
  },
  {
   "cell_type": "code",
   "execution_count": 29,
   "id": "bf94c666",
   "metadata": {},
   "outputs": [
    {
     "data": {
      "text/plain": [
       "[(27.6,)]"
      ]
     },
     "execution_count": 29,
     "metadata": {},
     "output_type": "execute_result"
    }
   ],
   "source": [
    "crsr.execute(\"SELECT SUM(weather2.Rainfall) FROM weather2 WHERE weather2.City = 'Cairo' \")\n",
    "crsr.fetchall()"
   ]
  },
  {
   "cell_type": "code",
   "execution_count": 30,
   "id": "9c90de89",
   "metadata": {},
   "outputs": [
    {
     "data": {
      "text/plain": [
       "[(569.0,), (192.29999999999998,), (1706.5,), (230.1,)]"
      ]
     },
     "execution_count": 30,
     "metadata": {},
     "output_type": "execute_result"
    }
   ],
   "source": [
    "crsr.execute(\"SELECT SUM(weather2.Rainfall) FROM weather2 GROUP BY weather2.Season\")\n",
    "crsr.fetchall()"
   ]
  },
  {
   "cell_type": "markdown",
   "id": "99a16ff4",
   "metadata": {},
   "source": [
    "#### Question 9"
   ]
  },
  {
   "cell_type": "code",
   "execution_count": 31,
   "id": "132202b6",
   "metadata": {},
   "outputs": [],
   "source": [
    "words = ['The', 'quick', 'brown', 'fox', 'jumps', 'over', 'the', 'lazy', 'dog']"
   ]
  },
  {
   "cell_type": "code",
   "execution_count": 32,
   "id": "c2bcdc61",
   "metadata": {},
   "outputs": [
    {
     "data": {
      "text/plain": [
       "['THE', 'QUICK', 'BROWN', 'FOX', 'JUMPS', 'OVER', 'THE', 'LAZY', 'DOG']"
      ]
     },
     "execution_count": 32,
     "metadata": {},
     "output_type": "execute_result"
    }
   ],
   "source": [
    "words_uppercase = [item.upper() for item in words] \n",
    "words_uppercase"
   ]
  },
  {
   "cell_type": "code",
   "execution_count": 33,
   "id": "8c0fba1a",
   "metadata": {},
   "outputs": [
    {
     "data": {
      "text/plain": [
       "['the', 'quick', 'brown', 'fox', 'jumps', 'over', 'the', 'lazy', 'dog']"
      ]
     },
     "execution_count": 33,
     "metadata": {},
     "output_type": "execute_result"
    }
   ],
   "source": [
    "words_lowercase = [item.lower() for item in words] \n",
    "words_lowercase"
   ]
  },
  {
   "cell_type": "code",
   "execution_count": 34,
   "id": "c96a3368",
   "metadata": {},
   "outputs": [
    {
     "data": {
      "text/plain": [
       "[3, 5, 5, 3, 5, 4, 3, 4, 3]"
      ]
     },
     "execution_count": 34,
     "metadata": {},
     "output_type": "execute_result"
    }
   ],
   "source": [
    "words_length = [len(item) for item in words] \n",
    "words_length"
   ]
  },
  {
   "cell_type": "code",
   "execution_count": 35,
   "id": "63224e3b",
   "metadata": {},
   "outputs": [
    {
     "data": {
      "text/plain": [
       "[['THE', 'the', 3],\n",
       " ['QUICK', 'quick', 5],\n",
       " ['BROWN', 'brown', 5],\n",
       " ['FOX', 'fox', 3],\n",
       " ['JUMPS', 'jumps', 5],\n",
       " ['OVER', 'over', 4],\n",
       " ['THE', 'the', 3],\n",
       " ['LAZY', 'lazy', 4],\n",
       " ['DOG', 'dog', 3]]"
      ]
     },
     "execution_count": 35,
     "metadata": {},
     "output_type": "execute_result"
    }
   ],
   "source": [
    "words_list = [[item.upper(), item.lower(), len(item)] for item in words]\n",
    "words_list"
   ]
  },
  {
   "cell_type": "code",
   "execution_count": 36,
   "id": "5066aae9",
   "metadata": {},
   "outputs": [
    {
     "data": {
      "text/plain": [
       "['quick', 'brown', 'jumps', 'over', 'lazy']"
      ]
     },
     "execution_count": 36,
     "metadata": {},
     "output_type": "execute_result"
    }
   ],
   "source": [
    "words_4 = [item for item in words if len(item)>3]\n",
    "words_4"
   ]
  },
  {
   "cell_type": "code",
   "execution_count": null,
   "id": "6f066e10",
   "metadata": {},
   "outputs": [],
   "source": []
  },
  {
   "cell_type": "code",
   "execution_count": null,
   "id": "8fe4e69d",
   "metadata": {},
   "outputs": [],
   "source": []
  }
 ],
 "metadata": {
  "kernelspec": {
   "display_name": "Python 3",
   "language": "python",
   "name": "python3"
  },
  "language_info": {
   "codemirror_mode": {
    "name": "ipython",
    "version": 3
   },
   "file_extension": ".py",
   "mimetype": "text/x-python",
   "name": "python",
   "nbconvert_exporter": "python",
   "pygments_lexer": "ipython3",
   "version": "3.8.8"
  }
 },
 "nbformat": 4,
 "nbformat_minor": 5
}
